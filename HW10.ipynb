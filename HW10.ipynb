{
  "cells": [
    {
      "cell_type": "markdown",
      "metadata": {
        "id": "view-in-github",
        "colab_type": "text"
      },
      "source": [
        "<a href=\"https://colab.research.google.com/github/IEn-Lee/DSSS_WS24-25_exercise10/blob/main/HW10.ipynb\" target=\"_parent\"><img src=\"https://colab.research.google.com/assets/colab-badge.svg\" alt=\"Open In Colab\"/></a>"
      ]
    },
    {
      "cell_type": "code",
      "execution_count": null,
      "metadata": {
        "id": "8H5SSTJ-PTUU"
      },
      "outputs": [],
      "source": [
        "#!pip install line_profiler\n",
        "%load_ext line_profiler"
      ]
    },
    {
      "cell_type": "code",
      "execution_count": null,
      "metadata": {
        "id": "NFCyH1zFPTUV"
      },
      "outputs": [],
      "source": [
        "import numpy as np\n",
        "from skimage import data, color\n",
        "from skimage.transform import resize"
      ]
    },
    {
      "cell_type": "code",
      "execution_count": null,
      "metadata": {
        "id": "gMrys9ToPTUW"
      },
      "outputs": [],
      "source": [
        "imgs = np.uint8(data.lfw_subset()*255)\n",
        "\n",
        "def res_skimage(imgs):\n",
        "    new_size = (imgs[1].shape[0]//2, imgs[1].shape[1]//2)\n",
        "    res_im = []\n",
        "    for im in imgs:\n",
        "        image_resized = resize(im, new_size, anti_aliasing=True)\n",
        "        res_im.append(image_resized)\n",
        "    return np.asarray(res_im)\n"
      ]
    },
    {
      "cell_type": "code",
      "execution_count": null,
      "metadata": {
        "id": "GDs5Vc8wPTUW",
        "outputId": "2149f9ee-6c59-4c30-a617-643cb8133b5b"
      },
      "outputs": [
        {
          "name": "stdout",
          "output_type": "stream",
          "text": [
            "Timer unit: 1e-07 s\n",
            "\n",
            "Total time: 0.0680314 s\n",
            "File: C:\\Users\\USER\\AppData\\Local\\Temp\\ipykernel_27144\\634147576.py\n",
            "Function: res_skimage at line 3\n",
            "\n",
            "Line #      Hits         Time  Per Hit   % Time  Line Contents\n",
            "==============================================================\n",
            "     3                                           def res_skimage(imgs):\n",
            "     4         1         49.0     49.0      0.0      new_size = (imgs[1].shape[0]//2, imgs[1].shape[1]//2)\n",
            "     5         1          2.0      2.0      0.0      res_im = []\n",
            "     6       101       1089.0     10.8      0.2      for im in imgs:\n",
            "     7       100     672953.0   6729.5     98.9          image_resized = resize(im, new_size, anti_aliasing=True)\n",
            "     8       100       1140.0     11.4      0.2          res_im.append(image_resized)\n",
            "     9         1       5081.0   5081.0      0.7      return np.asarray(res_im)"
          ]
        }
      ],
      "source": [
        "# 測試資料\n",
        "imgs = np.random.randint(0, 255, (100, 64, 64), dtype=np.uint8)\n",
        "\n",
        "# 使用 %lprun 進行剖析\n",
        "%lprun -f res_skimage res_skimage(imgs)"
      ]
    },
    {
      "cell_type": "code",
      "execution_count": null,
      "metadata": {
        "id": "fgV0yI29PTUX"
      },
      "outputs": [],
      "source": [
        "def res_skimage_optimized(imgs):\n",
        "    new_size = (imgs.shape[1] // 2, imgs.shape[2] // 2)\n",
        "    resized_imgs = [resize(img, new_size, anti_aliasing=True) for img in imgs]\n",
        "    return np.array(resized_imgs)"
      ]
    },
    {
      "cell_type": "code",
      "execution_count": null,
      "metadata": {
        "id": "K7DF7BWXPTUX",
        "outputId": "e3f417db-d214-4797-d78f-af9ee7549cbf"
      },
      "outputs": [
        {
          "name": "stdout",
          "output_type": "stream",
          "text": [
            "Timer unit: 1e-07 s\n",
            "\n",
            "Total time: 0.053577 s\n",
            "File: C:\\Users\\USER\\AppData\\Local\\Temp\\ipykernel_27144\\623123810.py\n",
            "Function: res_skimage_optimized at line 1\n",
            "\n",
            "Line #      Hits         Time  Per Hit   % Time  Line Contents\n",
            "==============================================================\n",
            "     1                                           def res_skimage_optimized(imgs):\n",
            "     2         1         78.0     78.0      0.0      new_size = (imgs.shape[1] // 2, imgs.shape[2] // 2)\n",
            "     3         1     531684.0 531684.0     99.2      resized_imgs = [resize(img, new_size, anti_aliasing=True) for img in imgs]\n",
            "     4         1       4008.0   4008.0      0.7      return np.array(resized_imgs)"
          ]
        }
      ],
      "source": [
        "%lprun -f res_skimage_optimized res_skimage_optimized(imgs)"
      ]
    },
    {
      "cell_type": "code",
      "execution_count": null,
      "metadata": {
        "colab": {
          "base_uri": "https://localhost:8080/"
        },
        "id": "_-Us9LQ7PTUX",
        "outputId": "e3fdc5f9-acbc-49f5-d71a-fc55dc84200d"
      },
      "outputs": [
        {
          "output_type": "stream",
          "name": "stdout",
          "text": [
            "Sequential execution time: 44.22 seconds\n",
            "Parallel execution time: 49.40 seconds\n",
            "Speedup: 0.90x\n"
          ]
        }
      ],
      "source": [
        "import multiprocessing as mp\n",
        "import time\n",
        "\n",
        "# 原始計算 Pi 的函數\n",
        "def approximate_pi(n):\n",
        "    pi_2 = 1\n",
        "    nom, den = 2.0, 1.0\n",
        "    for i in range(n):\n",
        "        pi_2 *= nom / den\n",
        "        if i % 2:\n",
        "            nom += 2\n",
        "        else:\n",
        "            den += 2\n",
        "    return 2 * pi_2\n",
        "\n",
        "# 測試數據\n",
        "nums = [1_822_725, 22_059_421, 32_374_695, 88_754_320, 97_162_66, 200_745_654]\n",
        "\n",
        "# 並行執行函數\n",
        "def parallel_execution(nums):\n",
        "    with mp.Pool(processes=mp.cpu_count()) as pool:\n",
        "        results = pool.map(approximate_pi, nums)\n",
        "    return results\n",
        "\n",
        "# 主函數\n",
        "def main():\n",
        "    # 順序執行\n",
        "    start = time.time()\n",
        "    sequential_results = [approximate_pi(n) for n in nums]\n",
        "    sequential_time = time.time() - start\n",
        "    print(f\"Sequential execution time: {sequential_time:.2f} seconds\")\n",
        "\n",
        "    # 並行執行\n",
        "    start = time.time()\n",
        "    parallel_results = parallel_execution(nums)\n",
        "    parallel_time = time.time() - start\n",
        "    print(f\"Parallel execution time: {parallel_time:.2f} seconds\")\n",
        "\n",
        "    # 效能提升\n",
        "    improvement = sequential_time / parallel_time\n",
        "    print(f\"Speedup: {improvement:.2f}x\")\n",
        "\n",
        "    # 返回結果\n",
        "    return sequential_results, parallel_results, sequential_time, parallel_time, improvement\n",
        "\n",
        "# 在 Jupyter Notebook 中執行\n",
        "if __name__ == \"__main__\":\n",
        "    sequential_results, parallel_results, sequential_time, parallel_time, improvement = main()\n"
      ]
    },
    {
      "cell_type": "code",
      "source": [
        "from numba import jit\n",
        "import time\n",
        "\n",
        "# 原始計算 Pi 的函數（不優化）\n",
        "def approximate_pi_unoptimized(n):\n",
        "    pi_2 = 1\n",
        "    nom, den = 2.0, 1.0\n",
        "    for i in range(n):\n",
        "        pi_2 *= nom / den\n",
        "        if i % 2:\n",
        "            nom += 2\n",
        "        else:\n",
        "            den += 2\n",
        "    return 2 * pi_2\n",
        "\n",
        "# 使用 Numba 的 JIT 編譯器優化函數\n",
        "@jit(nopython=True)\n",
        "def approximate_pi_optimized(n):\n",
        "    pi_2 = 1\n",
        "    nom, den = 2.0, 1.0\n",
        "    for i in range(n):\n",
        "        pi_2 *= nom / den\n",
        "        if i % 2:\n",
        "            nom += 2\n",
        "        else:\n",
        "            den += 2\n",
        "    return 2 * pi_2\n",
        "\n",
        "# 測試數據\n",
        "nums = [1_822_725, 22_059_421, 32_374_695, 88_754_320, 97_162_66, 200_745_654]\n",
        "\n",
        "# 計算優化前的執行時間\n",
        "start = time.time()\n",
        "sequential_results_before = [approximate_pi_unoptimized(n) for n in nums]\n",
        "sequential_time_before = time.time() - start\n",
        "\n",
        "# 計算優化後的執行時間\n",
        "start = time.time()\n",
        "sequential_results_after = [approximate_pi_optimized(n) for n in nums]\n",
        "sequential_time_after = time.time() - start\n",
        "\n",
        "# 計算提升百分比\n",
        "time_reduction = sequential_time_before - sequential_time_after\n",
        "percent_faster = (time_reduction / sequential_time_before) * 100\n",
        "\n",
        "# 輸出結果\n",
        "print(f\"Sequential execution time before optimization: {sequential_time_before:.2f} seconds\")\n",
        "print(f\"Sequential execution time after Numba optimization: {sequential_time_after:.2f} seconds\")\n",
        "print(f\"Improvement: {percent_faster:.2f}% faster\")\n"
      ],
      "metadata": {
        "colab": {
          "base_uri": "https://localhost:8080/"
        },
        "id": "QDo5w1fIZFrT",
        "outputId": "4b4c3b39-6553-48f8-b1e1-7a48ac83531d"
      },
      "execution_count": 25,
      "outputs": [
        {
          "output_type": "stream",
          "name": "stdout",
          "text": [
            "Sequential execution time before optimization: 47.29 seconds\n",
            "Sequential execution time after Numba optimization: 0.82 seconds\n",
            "Improvement: 98.26% faster\n"
          ]
        }
      ]
    },
    {
      "cell_type": "code",
      "source": [
        "import numpy as np\n",
        "import matplotlib.pyplot as plt\n",
        "from numba import jit\n",
        "\n",
        "# Pi 近似計算函數\n",
        "@jit(nopython=True)\n",
        "def approximate_pi(n):\n",
        "    pi_2 = 1\n",
        "    nom, den = 2.0, 1.0\n",
        "    for i in range(n):\n",
        "        pi_2 *= nom / den\n",
        "        if i % 2:\n",
        "            nom += 2\n",
        "        else:\n",
        "            den += 2\n",
        "    return 2 * pi_2\n",
        "\n",
        "# 定義不同的迭代次數\n",
        "# iterations = [2000000, 10000000, 20000000, 50000000, 100000000, 200000000]\n",
        "iterations = [1_822_725, 22_059_421, 32_374_695, 88_754_320, 97_162_66, 200_745_654]\n",
        "\n",
        "# 計算每次迭代的 Pi 近似值\n",
        "approximations = [approximate_pi(n) for n in iterations]\n",
        "\n",
        "# 真實 Pi 值\n",
        "real_pi = np.pi\n",
        "\n",
        "# 繪製圖表\n",
        "plt.figure(figsize=(10, 6))\n",
        "plt.plot(iterations, approximations, 'bo', label='approximation')\n",
        "plt.axhline(y=real_pi, color='orange', linestyle='-', label='pi')\n",
        "\n",
        "# 設定標題與標籤\n",
        "plt.xlabel('number of iterations')\n",
        "plt.ylabel('approximation')\n",
        "plt.legend()\n",
        "\n",
        "# 顯示圖表\n",
        "plt.show()\n"
      ],
      "metadata": {
        "colab": {
          "base_uri": "https://localhost:8080/",
          "height": 557
        },
        "id": "CQ-9h_uUgKEU",
        "outputId": "8bf44d37-71de-4032-d67e-a965fcf3433a"
      },
      "execution_count": 27,
      "outputs": [
        {
          "output_type": "display_data",
          "data": {
            "text/plain": [
              "<Figure size 1000x600 with 1 Axes>"
            ],
            "image/png": "[encoded data removed]"
          },
          "metadata": {}
        }
      ]
    },
    {
      "cell_type": "code",
      "source": [
        "print(real_pi, approximations)"
      ],
      "metadata": {
        "colab": {
          "base_uri": "https://localhost:8080/"
        },
        "id": "c9jNdPr-iRWS",
        "outputId": "ec1d8051-dc46-46ec-8944-4bbfa1e0f95c"
      },
      "execution_count": null,
      "outputs": [
        {
          "output_type": "stream",
          "name": "stdout",
          "text": [
            "3.141592653589793 [3.1415918681915005, 3.1415924965090136, 3.1415925750481657, 3.1415926221704638, 3.141592637878503, 3.141592645732001]\n"
          ]
        }
      ]
    }
  ],
  "metadata": {
    "kernelspec": {
      "display_name": "dsss",
      "language": "python",
      "name": "python3"
    },
    "language_info": {
      "codemirror_mode": {
        "name": "ipython",
        "version": 3
      },
      "file_extension": ".py",
      "mimetype": "text/x-python",
      "name": "python",
      "nbconvert_exporter": "python",
      "pygments_lexer": "ipython3",
      "version": "3.9.18"
    },
    "colab": {
      "provenance": [],
      "include_colab_link": true
    }
  },
  "nbformat": 4,
  "nbformat_minor": 0
}